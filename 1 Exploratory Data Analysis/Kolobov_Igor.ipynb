{
 "cells": [
  {
   "cell_type": "markdown",
   "metadata": {},
   "source": [
    "Dataset from Kaggle:\n",
    "\n",
    "https://www.kaggle.com/austinreese/craigslist-carstrucks-data\n",
    "\n",
    "700k vehicles for sale taken from Craigslist in November. Blank entries indicate that the listing did not provide said information."
   ]
  },
  {
   "cell_type": "code",
   "execution_count": 2,
   "metadata": {},
   "outputs": [],
   "source": [
    "import numpy as np\n",
    "import pandas as pd\n",
    "import matplotlib.pyplot as plt\n",
    "import seaborn as sns"
   ]
  },
  {
   "cell_type": "code",
   "execution_count": 110,
   "metadata": {},
   "outputs": [],
   "source": [
    "df = pd.read_csv('input/craigslistVehicles.csv')"
   ]
  },
  {
   "cell_type": "markdown",
   "metadata": {},
   "source": [
    "1. Target label = 'price'\n",
    "2. Drop not used features: 'url', 'VIN', 'image_url', 'lat', 'long'"
   ]
  },
  {
   "cell_type": "code",
   "execution_count": 111,
   "metadata": {},
   "outputs": [],
   "source": [
    "df.drop(columns=['url', 'VIN', 'image_url', 'lat', 'long'], inplace=True)"
   ]
  },
  {
   "cell_type": "markdown",
   "metadata": {},
   "source": [
    "## Explore main data set features and target labels"
   ]
  },
  {
   "cell_type": "code",
   "execution_count": 5,
   "metadata": {},
   "outputs": [
    {
     "data": {
      "text/plain": [
       "(677812, 15)"
      ]
     },
     "execution_count": 5,
     "metadata": {},
     "output_type": "execute_result"
    }
   ],
   "source": [
    "df.shape"
   ]
  },
  {
   "cell_type": "code",
   "execution_count": 6,
   "metadata": {
    "scrolled": true
   },
   "outputs": [
    {
     "name": "stdout",
     "output_type": "stream",
     "text": [
      "<class 'pandas.core.frame.DataFrame'>\n",
      "RangeIndex: 677812 entries, 0 to 677811\n",
      "Data columns (total 15 columns):\n",
      "city            677812 non-null object\n",
      "price           677812 non-null int64\n",
      "year            677514 non-null float64\n",
      "manufacturer    624214 non-null object\n",
      "make            650319 non-null object\n",
      "condition       397822 non-null object\n",
      "cylinders       401581 non-null object\n",
      "fuel            670034 non-null object\n",
      "odometer        453250 non-null float64\n",
      "title_status    673279 non-null object\n",
      "transmission    670682 non-null object\n",
      "drive           415113 non-null object\n",
      "size            231502 non-null object\n",
      "type            398859 non-null object\n",
      "paint_color     402534 non-null object\n",
      "dtypes: float64(2), int64(1), object(12)\n",
      "memory usage: 77.6+ MB\n"
     ]
    }
   ],
   "source": [
    "df.info()"
   ]
  },
  {
   "cell_type": "markdown",
   "metadata": {},
   "source": [
    "There are many missing values"
   ]
  },
  {
   "cell_type": "code",
   "execution_count": 7,
   "metadata": {},
   "outputs": [
    {
     "data": {
      "text/html": [
       "<div>\n",
       "<style scoped>\n",
       "    .dataframe tbody tr th:only-of-type {\n",
       "        vertical-align: middle;\n",
       "    }\n",
       "\n",
       "    .dataframe tbody tr th {\n",
       "        vertical-align: top;\n",
       "    }\n",
       "\n",
       "    .dataframe thead th {\n",
       "        text-align: right;\n",
       "    }\n",
       "</style>\n",
       "<table border=\"1\" class=\"dataframe\">\n",
       "  <thead>\n",
       "    <tr style=\"text-align: right;\">\n",
       "      <th></th>\n",
       "      <th>price</th>\n",
       "      <th>year</th>\n",
       "      <th>odometer</th>\n",
       "    </tr>\n",
       "  </thead>\n",
       "  <tbody>\n",
       "    <tr>\n",
       "      <th>count</th>\n",
       "      <td>6.778120e+05</td>\n",
       "      <td>677514.000000</td>\n",
       "      <td>4.532500e+05</td>\n",
       "    </tr>\n",
       "    <tr>\n",
       "      <th>mean</th>\n",
       "      <td>6.145579e+05</td>\n",
       "      <td>2005.014767</td>\n",
       "      <td>1.125260e+05</td>\n",
       "    </tr>\n",
       "    <tr>\n",
       "      <th>std</th>\n",
       "      <td>4.469918e+07</td>\n",
       "      <td>12.037830</td>\n",
       "      <td>1.340298e+05</td>\n",
       "    </tr>\n",
       "    <tr>\n",
       "      <th>min</th>\n",
       "      <td>1.000000e+00</td>\n",
       "      <td>1900.000000</td>\n",
       "      <td>0.000000e+00</td>\n",
       "    </tr>\n",
       "    <tr>\n",
       "      <th>25%</th>\n",
       "      <td>3.500000e+03</td>\n",
       "      <td>2002.000000</td>\n",
       "      <td>5.600000e+04</td>\n",
       "    </tr>\n",
       "    <tr>\n",
       "      <th>50%</th>\n",
       "      <td>7.500000e+03</td>\n",
       "      <td>2007.000000</td>\n",
       "      <td>1.052265e+05</td>\n",
       "    </tr>\n",
       "    <tr>\n",
       "      <th>75%</th>\n",
       "      <td>1.550000e+04</td>\n",
       "      <td>2013.000000</td>\n",
       "      <td>1.510000e+05</td>\n",
       "    </tr>\n",
       "    <tr>\n",
       "      <th>max</th>\n",
       "      <td>4.294967e+09</td>\n",
       "      <td>2019.000000</td>\n",
       "      <td>1.000000e+07</td>\n",
       "    </tr>\n",
       "  </tbody>\n",
       "</table>\n",
       "</div>"
      ],
      "text/plain": [
       "              price           year      odometer\n",
       "count  6.778120e+05  677514.000000  4.532500e+05\n",
       "mean   6.145579e+05    2005.014767  1.125260e+05\n",
       "std    4.469918e+07      12.037830  1.340298e+05\n",
       "min    1.000000e+00    1900.000000  0.000000e+00\n",
       "25%    3.500000e+03    2002.000000  5.600000e+04\n",
       "50%    7.500000e+03    2007.000000  1.052265e+05\n",
       "75%    1.550000e+04    2013.000000  1.510000e+05\n",
       "max    4.294967e+09    2019.000000  1.000000e+07"
      ]
     },
     "execution_count": 7,
     "metadata": {},
     "output_type": "execute_result"
    }
   ],
   "source": [
    "df.describe()"
   ]
  },
  {
   "cell_type": "code",
   "execution_count": 8,
   "metadata": {
    "scrolled": false
   },
   "outputs": [
    {
     "data": {
      "text/html": [
       "<div>\n",
       "<style scoped>\n",
       "    .dataframe tbody tr th:only-of-type {\n",
       "        vertical-align: middle;\n",
       "    }\n",
       "\n",
       "    .dataframe tbody tr th {\n",
       "        vertical-align: top;\n",
       "    }\n",
       "\n",
       "    .dataframe thead th {\n",
       "        text-align: right;\n",
       "    }\n",
       "</style>\n",
       "<table border=\"1\" class=\"dataframe\">\n",
       "  <thead>\n",
       "    <tr style=\"text-align: right;\">\n",
       "      <th></th>\n",
       "      <th>city</th>\n",
       "      <th>price</th>\n",
       "      <th>year</th>\n",
       "      <th>manufacturer</th>\n",
       "      <th>make</th>\n",
       "      <th>condition</th>\n",
       "      <th>cylinders</th>\n",
       "      <th>fuel</th>\n",
       "      <th>odometer</th>\n",
       "      <th>title_status</th>\n",
       "      <th>transmission</th>\n",
       "      <th>drive</th>\n",
       "      <th>size</th>\n",
       "      <th>type</th>\n",
       "      <th>paint_color</th>\n",
       "    </tr>\n",
       "  </thead>\n",
       "  <tbody>\n",
       "    <tr>\n",
       "      <th>0</th>\n",
       "      <td>tricities</td>\n",
       "      <td>5000</td>\n",
       "      <td>1978.0</td>\n",
       "      <td>ford</td>\n",
       "      <td>bronco</td>\n",
       "      <td>NaN</td>\n",
       "      <td>NaN</td>\n",
       "      <td>gas</td>\n",
       "      <td>NaN</td>\n",
       "      <td>clean</td>\n",
       "      <td>automatic</td>\n",
       "      <td>NaN</td>\n",
       "      <td>NaN</td>\n",
       "      <td>NaN</td>\n",
       "      <td>NaN</td>\n",
       "    </tr>\n",
       "    <tr>\n",
       "      <th>1</th>\n",
       "      <td>tricities</td>\n",
       "      <td>5000</td>\n",
       "      <td>2008.0</td>\n",
       "      <td>buick</td>\n",
       "      <td>lucerne cxl v6</td>\n",
       "      <td>like new</td>\n",
       "      <td>6 cylinders</td>\n",
       "      <td>gas</td>\n",
       "      <td>51000.0</td>\n",
       "      <td>clean</td>\n",
       "      <td>automatic</td>\n",
       "      <td>fwd</td>\n",
       "      <td>full-size</td>\n",
       "      <td>sedan</td>\n",
       "      <td>grey</td>\n",
       "    </tr>\n",
       "    <tr>\n",
       "      <th>2</th>\n",
       "      <td>tricities</td>\n",
       "      <td>13500</td>\n",
       "      <td>2006.0</td>\n",
       "      <td>NaN</td>\n",
       "      <td>Pont GTO</td>\n",
       "      <td>excellent</td>\n",
       "      <td>8 cylinders</td>\n",
       "      <td>gas</td>\n",
       "      <td>93000.0</td>\n",
       "      <td>clean</td>\n",
       "      <td>automatic</td>\n",
       "      <td>rwd</td>\n",
       "      <td>mid-size</td>\n",
       "      <td>coupe</td>\n",
       "      <td>red</td>\n",
       "    </tr>\n",
       "    <tr>\n",
       "      <th>3</th>\n",
       "      <td>tricities</td>\n",
       "      <td>6200</td>\n",
       "      <td>2006.0</td>\n",
       "      <td>mercedes-benz</td>\n",
       "      <td>NaN</td>\n",
       "      <td>NaN</td>\n",
       "      <td>NaN</td>\n",
       "      <td>gas</td>\n",
       "      <td>NaN</td>\n",
       "      <td>rebuilt</td>\n",
       "      <td>automatic</td>\n",
       "      <td>NaN</td>\n",
       "      <td>NaN</td>\n",
       "      <td>NaN</td>\n",
       "      <td>NaN</td>\n",
       "    </tr>\n",
       "    <tr>\n",
       "      <th>4</th>\n",
       "      <td>tricities</td>\n",
       "      <td>37900</td>\n",
       "      <td>2016.0</td>\n",
       "      <td>ford</td>\n",
       "      <td>f350</td>\n",
       "      <td>excellent</td>\n",
       "      <td>8 cylinders</td>\n",
       "      <td>diesel</td>\n",
       "      <td>70500.0</td>\n",
       "      <td>clean</td>\n",
       "      <td>automatic</td>\n",
       "      <td>4wd</td>\n",
       "      <td>NaN</td>\n",
       "      <td>truck</td>\n",
       "      <td>white</td>\n",
       "    </tr>\n",
       "  </tbody>\n",
       "</table>\n",
       "</div>"
      ],
      "text/plain": [
       "        city  price    year   manufacturer            make  condition  \\\n",
       "0  tricities   5000  1978.0           ford          bronco        NaN   \n",
       "1  tricities   5000  2008.0          buick  lucerne cxl v6   like new   \n",
       "2  tricities  13500  2006.0            NaN        Pont GTO  excellent   \n",
       "3  tricities   6200  2006.0  mercedes-benz             NaN        NaN   \n",
       "4  tricities  37900  2016.0           ford            f350  excellent   \n",
       "\n",
       "     cylinders    fuel  odometer title_status transmission drive       size  \\\n",
       "0          NaN     gas       NaN        clean    automatic   NaN        NaN   \n",
       "1  6 cylinders     gas   51000.0        clean    automatic   fwd  full-size   \n",
       "2  8 cylinders     gas   93000.0        clean    automatic   rwd   mid-size   \n",
       "3          NaN     gas       NaN      rebuilt    automatic   NaN        NaN   \n",
       "4  8 cylinders  diesel   70500.0        clean    automatic   4wd        NaN   \n",
       "\n",
       "    type paint_color  \n",
       "0    NaN         NaN  \n",
       "1  sedan        grey  \n",
       "2  coupe         red  \n",
       "3    NaN         NaN  \n",
       "4  truck       white  "
      ]
     },
     "execution_count": 8,
     "metadata": {},
     "output_type": "execute_result"
    }
   ],
   "source": [
    "df.head()"
   ]
  },
  {
   "cell_type": "code",
   "execution_count": 112,
   "metadata": {},
   "outputs": [],
   "source": [
    "# Replace 'other' values to 'NaN' and convert value type to 'float' for feature 'cylinders'\n",
    "df['cylinders'] = df['cylinders'].replace('other', np.NaN)\n",
    "df['cylinders'] = df['cylinders'].apply(lambda num: float(num[0]) if type(num) == np.str else np.NaN)"
   ]
  },
  {
   "cell_type": "code",
   "execution_count": 10,
   "metadata": {
    "scrolled": false
   },
   "outputs": [
    {
     "data": {
      "image/png": "[encoded data removed]",
      "text/plain": [
       "<Figure size 1152x432 with 1 Axes>"
      ]
     },
     "metadata": {},
     "output_type": "display_data"
    }
   ],
   "source": [
    "plt.figure(figsize=(16,6))\n",
    "plt.title('Distibution target values - price (log10)', fontsize=14)\n",
    "plt.hist(np.log10(df.price), bins = 100);"
   ]
  },
  {
   "cell_type": "code",
   "execution_count": 11,
   "metadata": {},
   "outputs": [
    {
     "data": {
      "text/plain": [
       "ford         116051\n",
       "chevrolet    103722\n",
       "toyota        45266\n",
       "honda         34698\n",
       "nissan        31358\n",
       "dodge         30337\n",
       "jeep          29796\n",
       "gmc           28033\n",
       "ram           22908\n",
       "bmw           16593\n",
       "Name: manufacturer, dtype: int64"
      ]
     },
     "execution_count": 11,
     "metadata": {},
     "output_type": "execute_result"
    }
   ],
   "source": [
    "# Top-10 popular manufacturers of car\n",
    "df.manufacturer.value_counts()[:10]"
   ]
  },
  {
   "cell_type": "code",
   "execution_count": 12,
   "metadata": {
    "scrolled": true
   },
   "outputs": [],
   "source": [
    "# dataset for top-10 popular manufacturers of car\n",
    "df_top10 = df[df.manufacturer.isin(df.manufacturer.value_counts()[:10].index.values)]"
   ]
  },
  {
   "cell_type": "code",
   "execution_count": 13,
   "metadata": {},
   "outputs": [
    {
     "data": {
      "text/html": [
       "<div>\n",
       "<style scoped>\n",
       "    .dataframe tbody tr th:only-of-type {\n",
       "        vertical-align: middle;\n",
       "    }\n",
       "\n",
       "    .dataframe tbody tr th {\n",
       "        vertical-align: top;\n",
       "    }\n",
       "\n",
       "    .dataframe thead th {\n",
       "        text-align: right;\n",
       "    }\n",
       "</style>\n",
       "<table border=\"1\" class=\"dataframe\">\n",
       "  <thead>\n",
       "    <tr style=\"text-align: right;\">\n",
       "      <th></th>\n",
       "      <th>cylinders</th>\n",
       "      <th>price</th>\n",
       "      <th>year</th>\n",
       "    </tr>\n",
       "    <tr>\n",
       "      <th>manufacturer</th>\n",
       "      <th></th>\n",
       "      <th></th>\n",
       "      <th></th>\n",
       "    </tr>\n",
       "  </thead>\n",
       "  <tbody>\n",
       "    <tr>\n",
       "      <th>bmw</th>\n",
       "      <td>5.965701</td>\n",
       "      <td>3.484894e+05</td>\n",
       "      <td>2007.517206</td>\n",
       "    </tr>\n",
       "    <tr>\n",
       "      <th>chevrolet</th>\n",
       "      <td>6.806205</td>\n",
       "      <td>4.280817e+05</td>\n",
       "      <td>2002.746274</td>\n",
       "    </tr>\n",
       "    <tr>\n",
       "      <th>dodge</th>\n",
       "      <td>6.301164</td>\n",
       "      <td>8.875070e+05</td>\n",
       "      <td>2005.628012</td>\n",
       "    </tr>\n",
       "    <tr>\n",
       "      <th>ford</th>\n",
       "      <td>6.570330</td>\n",
       "      <td>4.009895e+05</td>\n",
       "      <td>2003.862431</td>\n",
       "    </tr>\n",
       "    <tr>\n",
       "      <th>gmc</th>\n",
       "      <td>7.339410</td>\n",
       "      <td>2.728131e+05</td>\n",
       "      <td>2006.038704</td>\n",
       "    </tr>\n",
       "    <tr>\n",
       "      <th>honda</th>\n",
       "      <td>4.603134</td>\n",
       "      <td>5.717616e+05</td>\n",
       "      <td>2007.031673</td>\n",
       "    </tr>\n",
       "    <tr>\n",
       "      <th>jeep</th>\n",
       "      <td>5.874430</td>\n",
       "      <td>3.645188e+05</td>\n",
       "      <td>2005.965834</td>\n",
       "    </tr>\n",
       "    <tr>\n",
       "      <th>nissan</th>\n",
       "      <td>5.144755</td>\n",
       "      <td>1.784075e+06</td>\n",
       "      <td>2009.379297</td>\n",
       "    </tr>\n",
       "    <tr>\n",
       "      <th>ram</th>\n",
       "      <td>7.143005</td>\n",
       "      <td>2.600053e+05</td>\n",
       "      <td>2009.024795</td>\n",
       "    </tr>\n",
       "    <tr>\n",
       "      <th>toyota</th>\n",
       "      <td>5.272747</td>\n",
       "      <td>4.938026e+05</td>\n",
       "      <td>2007.188132</td>\n",
       "    </tr>\n",
       "  </tbody>\n",
       "</table>\n",
       "</div>"
      ],
      "text/plain": [
       "              cylinders         price         year\n",
       "manufacturer                                      \n",
       "bmw            5.965701  3.484894e+05  2007.517206\n",
       "chevrolet      6.806205  4.280817e+05  2002.746274\n",
       "dodge          6.301164  8.875070e+05  2005.628012\n",
       "ford           6.570330  4.009895e+05  2003.862431\n",
       "gmc            7.339410  2.728131e+05  2006.038704\n",
       "honda          4.603134  5.717616e+05  2007.031673\n",
       "jeep           5.874430  3.645188e+05  2005.965834\n",
       "nissan         5.144755  1.784075e+06  2009.379297\n",
       "ram            7.143005  2.600053e+05  2009.024795\n",
       "toyota         5.272747  4.938026e+05  2007.188132"
      ]
     },
     "execution_count": 13,
     "metadata": {},
     "output_type": "execute_result"
    }
   ],
   "source": [
    "df_top10.pivot_table(['price', 'cylinders', 'year'], ['manufacturer'], aggfunc='mean')"
   ]
  },
  {
   "cell_type": "code",
   "execution_count": 14,
   "metadata": {},
   "outputs": [
    {
     "data": {
      "text/html": [
       "<div>\n",
       "<style scoped>\n",
       "    .dataframe tbody tr th:only-of-type {\n",
       "        vertical-align: middle;\n",
       "    }\n",
       "\n",
       "    .dataframe tbody tr th {\n",
       "        vertical-align: top;\n",
       "    }\n",
       "\n",
       "    .dataframe thead th {\n",
       "        text-align: right;\n",
       "    }\n",
       "</style>\n",
       "<table border=\"1\" class=\"dataframe\">\n",
       "  <thead>\n",
       "    <tr style=\"text-align: right;\">\n",
       "      <th>manufacturer</th>\n",
       "      <th>nissan</th>\n",
       "      <th>chrysler</th>\n",
       "      <th>kia</th>\n",
       "      <th>pontiac</th>\n",
       "      <th>hyundai</th>\n",
       "      <th>dodge</th>\n",
       "      <th>saturn</th>\n",
       "      <th>mitsubishi</th>\n",
       "      <th>acura</th>\n",
       "      <th>mercedes-benz</th>\n",
       "      <th>...</th>\n",
       "      <th>cadillac</th>\n",
       "      <th>lincoln</th>\n",
       "      <th>land rover</th>\n",
       "      <th>jaguar</th>\n",
       "      <th>morgan</th>\n",
       "      <th>mini</th>\n",
       "      <th>fiat</th>\n",
       "      <th>volvo</th>\n",
       "      <th>buick</th>\n",
       "      <th>datsun</th>\n",
       "    </tr>\n",
       "  </thead>\n",
       "  <tbody>\n",
       "    <tr>\n",
       "      <th>mean</th>\n",
       "      <td>1.784075e+06</td>\n",
       "      <td>1.469033e+06</td>\n",
       "      <td>1.339839e+06</td>\n",
       "      <td>1.000582e+06</td>\n",
       "      <td>959151.723222</td>\n",
       "      <td>887507.004879</td>\n",
       "      <td>729427.054326</td>\n",
       "      <td>688102.669692</td>\n",
       "      <td>664548.556977</td>\n",
       "      <td>652901.22423</td>\n",
       "      <td>...</td>\n",
       "      <td>12135.457493</td>\n",
       "      <td>11686.510672</td>\n",
       "      <td>10566.244444</td>\n",
       "      <td>10097.275089</td>\n",
       "      <td>9894.0</td>\n",
       "      <td>9860.752653</td>\n",
       "      <td>9325.607533</td>\n",
       "      <td>9026.154382</td>\n",
       "      <td>7954.924717</td>\n",
       "      <td>6655.611374</td>\n",
       "    </tr>\n",
       "  </tbody>\n",
       "</table>\n",
       "<p>1 rows × 42 columns</p>\n",
       "</div>"
      ],
      "text/plain": [
       "manufacturer        nissan      chrysler           kia       pontiac  \\\n",
       "mean          1.784075e+06  1.469033e+06  1.339839e+06  1.000582e+06   \n",
       "\n",
       "manufacturer        hyundai          dodge         saturn     mitsubishi  \\\n",
       "mean          959151.723222  887507.004879  729427.054326  688102.669692   \n",
       "\n",
       "manufacturer          acura  mercedes-benz     ...           cadillac  \\\n",
       "mean          664548.556977   652901.22423     ...       12135.457493   \n",
       "\n",
       "manufacturer       lincoln    land rover        jaguar  morgan         mini  \\\n",
       "mean          11686.510672  10566.244444  10097.275089  9894.0  9860.752653   \n",
       "\n",
       "manufacturer         fiat        volvo        buick       datsun  \n",
       "mean          9325.607533  9026.154382  7954.924717  6655.611374  \n",
       "\n",
       "[1 rows x 42 columns]"
      ]
     },
     "execution_count": 14,
     "metadata": {},
     "output_type": "execute_result"
    }
   ],
   "source": [
    "# The top of most costed manufacturers of cars\n",
    "df.groupby(['manufacturer'])['price'].agg([np.mean]).sort_values(by='mean', ascending=False).T"
   ]
  },
  {
   "cell_type": "code",
   "execution_count": 15,
   "metadata": {},
   "outputs": [
    {
     "data": {
      "image/png": "[encoded data removed]",
      "text/plain": [
       "<Figure size 432x288 with 1 Axes>"
      ]
     },
     "metadata": {},
     "output_type": "display_data"
    }
   ],
   "source": [
    "# Let's see relataion between transmission/price\n",
    "sns.boxplot(y=df_top10.transmission, x=np.log10(df_top10.price), orient=\"h\", fliersize=1);"
   ]
  },
  {
   "cell_type": "markdown",
   "metadata": {},
   "source": [
    "## Feature engineering for the new parameters"
   ]
  },
  {
   "cell_type": "code",
   "execution_count": 113,
   "metadata": {},
   "outputs": [],
   "source": [
    "# Age of car\n",
    "df['age'] = 2019 - df.year"
   ]
  },
  {
   "cell_type": "code",
   "execution_count": 114,
   "metadata": {},
   "outputs": [],
   "source": [
    "# Odometer from miles to kilometers\n",
    "df['odometer_km'] = round(df.odometer / 1.609)"
   ]
  },
  {
   "cell_type": "code",
   "execution_count": 115,
   "metadata": {},
   "outputs": [],
   "source": [
    "# Average odometer's parameter per year\n",
    "df['avr_odometer_km'] = round(df.odometer_km/df.age)"
   ]
  },
  {
   "cell_type": "code",
   "execution_count": 116,
   "metadata": {},
   "outputs": [],
   "source": [
    "# Average price for manufacturer of car\n",
    "price_list = []\n",
    "for i in df.manufacturer.unique():\n",
    "    if type(i)== str:\n",
    "        price_list.append((i,int(df[df.manufacturer == i].price.mean())))\n",
    "    else:\n",
    "        price_list.append((i,np.NaN))\n",
    "price_list = dict(price_list)\n",
    "df['avr_price'] = df.manufacturer.map(price_list)"
   ]
  },
  {
   "cell_type": "code",
   "execution_count": 117,
   "metadata": {
    "scrolled": true
   },
   "outputs": [
    {
     "data": {
      "text/html": [
       "<div>\n",
       "<style scoped>\n",
       "    .dataframe tbody tr th:only-of-type {\n",
       "        vertical-align: middle;\n",
       "    }\n",
       "\n",
       "    .dataframe tbody tr th {\n",
       "        vertical-align: top;\n",
       "    }\n",
       "\n",
       "    .dataframe thead th {\n",
       "        text-align: right;\n",
       "    }\n",
       "</style>\n",
       "<table border=\"1\" class=\"dataframe\">\n",
       "  <thead>\n",
       "    <tr style=\"text-align: right;\">\n",
       "      <th></th>\n",
       "      <th>city</th>\n",
       "      <th>price</th>\n",
       "      <th>year</th>\n",
       "      <th>manufacturer</th>\n",
       "      <th>make</th>\n",
       "      <th>condition</th>\n",
       "      <th>cylinders</th>\n",
       "      <th>fuel</th>\n",
       "      <th>odometer</th>\n",
       "      <th>title_status</th>\n",
       "      <th>transmission</th>\n",
       "      <th>drive</th>\n",
       "      <th>size</th>\n",
       "      <th>type</th>\n",
       "      <th>paint_color</th>\n",
       "      <th>age</th>\n",
       "      <th>odometer_km</th>\n",
       "      <th>avr_odometer_km</th>\n",
       "      <th>avr_price</th>\n",
       "    </tr>\n",
       "  </thead>\n",
       "  <tbody>\n",
       "    <tr>\n",
       "      <th>0</th>\n",
       "      <td>tricities</td>\n",
       "      <td>5000</td>\n",
       "      <td>1978.0</td>\n",
       "      <td>ford</td>\n",
       "      <td>bronco</td>\n",
       "      <td>NaN</td>\n",
       "      <td>NaN</td>\n",
       "      <td>gas</td>\n",
       "      <td>NaN</td>\n",
       "      <td>clean</td>\n",
       "      <td>automatic</td>\n",
       "      <td>NaN</td>\n",
       "      <td>NaN</td>\n",
       "      <td>NaN</td>\n",
       "      <td>NaN</td>\n",
       "      <td>41.0</td>\n",
       "      <td>NaN</td>\n",
       "      <td>NaN</td>\n",
       "      <td>400989.0</td>\n",
       "    </tr>\n",
       "    <tr>\n",
       "      <th>1</th>\n",
       "      <td>tricities</td>\n",
       "      <td>5000</td>\n",
       "      <td>2008.0</td>\n",
       "      <td>buick</td>\n",
       "      <td>lucerne cxl v6</td>\n",
       "      <td>like new</td>\n",
       "      <td>6.0</td>\n",
       "      <td>gas</td>\n",
       "      <td>51000.0</td>\n",
       "      <td>clean</td>\n",
       "      <td>automatic</td>\n",
       "      <td>fwd</td>\n",
       "      <td>full-size</td>\n",
       "      <td>sedan</td>\n",
       "      <td>grey</td>\n",
       "      <td>11.0</td>\n",
       "      <td>31697.0</td>\n",
       "      <td>2882.0</td>\n",
       "      <td>7954.0</td>\n",
       "    </tr>\n",
       "    <tr>\n",
       "      <th>2</th>\n",
       "      <td>tricities</td>\n",
       "      <td>13500</td>\n",
       "      <td>2006.0</td>\n",
       "      <td>NaN</td>\n",
       "      <td>Pont GTO</td>\n",
       "      <td>excellent</td>\n",
       "      <td>8.0</td>\n",
       "      <td>gas</td>\n",
       "      <td>93000.0</td>\n",
       "      <td>clean</td>\n",
       "      <td>automatic</td>\n",
       "      <td>rwd</td>\n",
       "      <td>mid-size</td>\n",
       "      <td>coupe</td>\n",
       "      <td>red</td>\n",
       "      <td>13.0</td>\n",
       "      <td>57800.0</td>\n",
       "      <td>4446.0</td>\n",
       "      <td>NaN</td>\n",
       "    </tr>\n",
       "    <tr>\n",
       "      <th>3</th>\n",
       "      <td>tricities</td>\n",
       "      <td>6200</td>\n",
       "      <td>2006.0</td>\n",
       "      <td>mercedes-benz</td>\n",
       "      <td>NaN</td>\n",
       "      <td>NaN</td>\n",
       "      <td>NaN</td>\n",
       "      <td>gas</td>\n",
       "      <td>NaN</td>\n",
       "      <td>rebuilt</td>\n",
       "      <td>automatic</td>\n",
       "      <td>NaN</td>\n",
       "      <td>NaN</td>\n",
       "      <td>NaN</td>\n",
       "      <td>NaN</td>\n",
       "      <td>13.0</td>\n",
       "      <td>NaN</td>\n",
       "      <td>NaN</td>\n",
       "      <td>652901.0</td>\n",
       "    </tr>\n",
       "    <tr>\n",
       "      <th>4</th>\n",
       "      <td>tricities</td>\n",
       "      <td>37900</td>\n",
       "      <td>2016.0</td>\n",
       "      <td>ford</td>\n",
       "      <td>f350</td>\n",
       "      <td>excellent</td>\n",
       "      <td>8.0</td>\n",
       "      <td>diesel</td>\n",
       "      <td>70500.0</td>\n",
       "      <td>clean</td>\n",
       "      <td>automatic</td>\n",
       "      <td>4wd</td>\n",
       "      <td>NaN</td>\n",
       "      <td>truck</td>\n",
       "      <td>white</td>\n",
       "      <td>3.0</td>\n",
       "      <td>43816.0</td>\n",
       "      <td>14605.0</td>\n",
       "      <td>400989.0</td>\n",
       "    </tr>\n",
       "  </tbody>\n",
       "</table>\n",
       "</div>"
      ],
      "text/plain": [
       "        city  price    year   manufacturer            make  condition  \\\n",
       "0  tricities   5000  1978.0           ford          bronco        NaN   \n",
       "1  tricities   5000  2008.0          buick  lucerne cxl v6   like new   \n",
       "2  tricities  13500  2006.0            NaN        Pont GTO  excellent   \n",
       "3  tricities   6200  2006.0  mercedes-benz             NaN        NaN   \n",
       "4  tricities  37900  2016.0           ford            f350  excellent   \n",
       "\n",
       "   cylinders    fuel  odometer title_status transmission drive       size  \\\n",
       "0        NaN     gas       NaN        clean    automatic   NaN        NaN   \n",
       "1        6.0     gas   51000.0        clean    automatic   fwd  full-size   \n",
       "2        8.0     gas   93000.0        clean    automatic   rwd   mid-size   \n",
       "3        NaN     gas       NaN      rebuilt    automatic   NaN        NaN   \n",
       "4        8.0  diesel   70500.0        clean    automatic   4wd        NaN   \n",
       "\n",
       "    type paint_color   age  odometer_km  avr_odometer_km  avr_price  \n",
       "0    NaN         NaN  41.0          NaN              NaN   400989.0  \n",
       "1  sedan        grey  11.0      31697.0           2882.0     7954.0  \n",
       "2  coupe         red  13.0      57800.0           4446.0        NaN  \n",
       "3    NaN         NaN  13.0          NaN              NaN   652901.0  \n",
       "4  truck       white   3.0      43816.0          14605.0   400989.0  "
      ]
     },
     "execution_count": 117,
     "metadata": {},
     "output_type": "execute_result"
    }
   ],
   "source": [
    "df.head()"
   ]
  },
  {
   "cell_type": "markdown",
   "metadata": {},
   "source": [
    "# Create Statistical hypothesis and test them"
   ]
  },
  {
   "cell_type": "code",
   "execution_count": null,
   "metadata": {},
   "outputs": [],
   "source": [
    "# the newer the car the more expensive it is\n"
   ]
  },
  {
   "cell_type": "code",
   "execution_count": null,
   "metadata": {},
   "outputs": [],
   "source": []
  }
 ],
 "metadata": {
  "kernelspec": {
   "display_name": "Python 3",
   "language": "python",
   "name": "python3"
  },
  "language_info": {
   "codemirror_mode": {
    "name": "ipython",
    "version": 3
   },
   "file_extension": ".py",
   "mimetype": "text/x-python",
   "name": "python",
   "nbconvert_exporter": "python",
   "pygments_lexer": "ipython3",
   "version": "3.6.4"
  }
 },
 "nbformat": 4,
 "nbformat_minor": 2
}
