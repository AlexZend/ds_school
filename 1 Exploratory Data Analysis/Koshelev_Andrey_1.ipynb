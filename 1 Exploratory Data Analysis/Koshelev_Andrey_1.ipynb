{
  "cells": [
    {
      "metadata": {
        "trusted": true,
        "_uuid": "cd203825546b25619f13882ae5abd99da58ec2c3"
      },
      "cell_type": "markdown",
      "source": "In this research the Worldbank data on international development will be analyzed.\nDue to the sheer number of indicators (features), the task of finding out patterns on the whole dataset is of extreme complexity. The indicators are from different fields (macroeconomics, social, ecology, etc.), many of them are a combination of other indicators (GDP, GDP per capita, % of GDP), or the same indicator in different units (local currency real, local currency nominal, PPP, US$); also, the data is itself combined from different sources and its availability (percentage of available values) can vary drastically by country, year and indicator. In addition, many of macroeconomic indicators have a tendency to auto-correlate or inter-correlate if compared by nominal values. Therefore, it was decided to manually choose a field of research and the resulting indicator (target label).\n\nI: Target label (TL) - life expectancy:\n- one of the core sociological indicators.\n- subject to influence by many factors.\n- measured as an estimation based on mortality ratio over one year, so less/no lag is expected when looking for correlations.\n\nMain features: will be found in the process of researching data. After removing the least available features (based on share of N/A), we will manually choose the ones that might have explainatory power, after that test it by calculating correlation."
    },
    {
      "metadata": {
        "_uuid": "8f2839f25d086af736a60e9eeb907d3b93b6e0e5",
        "_cell_guid": "b1076dfc-b9ad-4769-8c92-a6c4dae69d19",
        "trusted": true,
        "scrolled": true
      },
      "cell_type": "code",
      "source": "%matplotlib inline\n\nimport numpy as np\nimport pandas as pd\nimport seaborn as sns\nimport matplotlib as plt\nimport statsmodels.regression.linear_model as sm_lm\nimport statsmodels.stats.outliers_influence as sm_ol\nimport statsmodels.stats.diagnostic as sm_diag\nfrom statsmodels.tools.tools import add_constant\nimport scipy\nimport math\nimport os, gc\nimport warnings\nwarnings.filterwarnings('ignore')\n\npd.set_option('display.max_columns', 60)\npd.set_option('display.max_rows', 200)\npd.set_option('display.float_format', lambda x: '%.3f' % x)",
      "execution_count": 205,
      "outputs": []
    },
    {
      "metadata": {
        "trusted": true,
        "_uuid": "a0463938da5874cdd23d5ba56da90ec5341b4210"
      },
      "cell_type": "code",
      "source": "dataset1 = os.listdir(\"../input\")\ndataset1 = list(filter(lambda x: x not in ['countries.csv', 'selected indicators.xlsx', 'definitions.csv', 'data2.xlsx'], dataset1))\ndf_list = [pd.read_csv(\"../input/\"+f) for f in dataset1]\ndf = pd.concat(df_list, ignore_index=False, axis=1)\ndf_ctr=pd.read_csv(\"../input/countries.csv\")\nctr=df_ctr['Country Name'].values.tolist()\n\nprint(dataset1)\nprint(df.shape)\nprint(len(ctr))",
      "execution_count": null,
      "outputs": []
    },
    {
      "metadata": {
        "_uuid": "12a55c5e8cecd7957d1d27b1ce94753b8a629206"
      },
      "cell_type": "markdown",
      "source": "II: clearing the data.\nCurrently the dataset contains ((264 countries x 1599 indicators + 5 technical fields) x (59 periods + 12 country/indicator columns)) = 422141 x 71 data units.\n\nThe goal is to leave as many countries, and as many years as possible. Indicators will have their number reduced the most.\n\nDeleting duplicate headers columns and technical fields, sort by year.\n\nNote that this was done in several iterations, by checking which country-indicators and/or year-indicators with least availability, correlation to the TL and both. Shown is only the final version."
    },
    {
      "metadata": {
        "trusted": true,
        "_uuid": "7502b081c4f1656ea52e97f5522051face73117b",
        "scrolled": true
      },
      "cell_type": "code",
      "source": "df=df.drop(df.index[[-1,-2,-3,-4,-5]])\ndf = df.loc[:,~df.columns.duplicated()]\ndf = df.reindex(sorted(df.columns), axis=1)\ndf=df.iloc[::,::-1]\nprint(df.shape)",
      "execution_count": null,
      "outputs": []
    },
    {
      "metadata": {
        "trusted": true,
        "_uuid": "68864f25f7b63df10690d05468c487680c983417",
        "scrolled": true
      },
      "cell_type": "code",
      "source": "df.head(3)",
      "execution_count": null,
      "outputs": []
    },
    {
      "metadata": {
        "_uuid": "fb66f0ce59f2463d640521bde4253c5188b0b5e3"
      },
      "cell_type": "markdown",
      "source": "Groups of countries are linear combinations of data available in the rest of the dataset, so we delete them. First we check if all country names are read correctly and are present in the dataset."
    },
    {
      "metadata": {
        "trusted": true,
        "_uuid": "f563e809a5a289798c119145469a74d47d36f78c"
      },
      "cell_type": "code",
      "source": "tmp=df['Country Name'].values.tolist()\ndf_ctr=df_ctr[~df_ctr['Country Name'].isin(tmp)]\nprint(df_ctr.head())",
      "execution_count": null,
      "outputs": []
    },
    {
      "metadata": {
        "trusted": true,
        "_uuid": "e2a775daf33e7bb13eba8acb38a8508fb4bb3421"
      },
      "cell_type": "code",
      "source": "df=df[df['Country Name'].isin(ctr)]\nprint(df.shape)",
      "execution_count": null,
      "outputs": []
    },
    {
      "metadata": {
        "trusted": true,
        "_uuid": "afcac0b49e7c3ef8aadd766859f1cf263dec7d65",
        "_kg_hide-output": true,
        "_kg_hide-input": false,
        "scrolled": true
      },
      "cell_type": "code",
      "source": "df.isna().sum()/(df.isna().sum()+df.notna().sum())",
      "execution_count": null,
      "outputs": []
    },
    {
      "metadata": {
        "_uuid": "2456c05fc698603ebbafa1c0f6245dff2c762c29"
      },
      "cell_type": "markdown",
      "source": "press 'Output' to show\n\nEarlier and the most recent periods have far less data available, those are likely to be dropped.\n\nRearranging the data into multiindex pivot table."
    },
    {
      "metadata": {
        "trusted": true,
        "_uuid": "728608a123048e36dfcffe43e24ac0ed5345c21d",
        "scrolled": true
      },
      "cell_type": "code",
      "source": "df=df.melt(id_vars=['Country Name', 'Series Name'])\ndf.rename(columns={'variable': 'Year'}, inplace=True)\ndf = df.pivot_table(index='Series Name', columns=['Country Name', 'Year'], dropna = False)\ndf.head(2)",
      "execution_count": null,
      "outputs": []
    },
    {
      "metadata": {
        "trusted": true,
        "_uuid": "6dfb2c31d4c7409d3c82f8556bbce7ba43583589"
      },
      "cell_type": "code",
      "source": "df.shape",
      "execution_count": null,
      "outputs": []
    },
    {
      "metadata": {
        "_uuid": "733a9290a8b42b3c861cc5b0b1f4b259ad46ef14"
      },
      "cell_type": "markdown",
      "source": "(1599 indicators x (217 countries x 59 periods))"
    },
    {
      "metadata": {
        "trusted": true,
        "_uuid": "faef3cc813326cde27b1f9efea79ff95f5a685d9",
        "_kg_hide-output": true,
        "scrolled": true
      },
      "cell_type": "code",
      "source": "df.isna().sum(axis=1)/(df.isna().sum(axis=1)+df.notna().sum(axis=1))",
      "execution_count": null,
      "outputs": []
    },
    {
      "metadata": {
        "_uuid": "0d4e458a397806e57475d332f1a7f15d03270a43"
      },
      "cell_type": "markdown",
      "source": "press 'Output' to show\n\nThe core indicators: life expextancy, mortality rate and GDP are widely available - less than 30% of values are missing (although GDP PPP is not, so we will have to rely on GDP in US$, for international comparability. Not ideal, but should suffice). Most of the education and healthcare - related data are also sparcely available, so the model will have to do with more indirect estimation.\n\nSince we have 60 observation per country-indicator, the threshhold to drop indicators is set to 50%, so we can hopefully leave about 30 observations on average."
    },
    {
      "metadata": {
        "trusted": true,
        "_uuid": "46468ed93555679aa8ee2371c0f1b881a61f4248"
      },
      "cell_type": "code",
      "source": "df=df.dropna(axis=0, thresh=6402)\ndf.shape",
      "execution_count": null,
      "outputs": []
    },
    {
      "metadata": {
        "_uuid": "41b03a65fada26783c608938da7b430650bbbc10"
      },
      "cell_type": "markdown",
      "source": "Now that the data is more visually interpretable, we can use a table of % data missing for each year-indicator."
    },
    {
      "metadata": {
        "trusted": true,
        "_uuid": "00724a952bb800ad73a3dfbfccce4a83860ec042",
        "_kg_hide-output": true,
        "scrolled": true
      },
      "cell_type": "code",
      "source": "df.isna().sum(axis=1, level=\"Year\")/(df.isna().sum(axis=1, level=\"Year\")+df.notna().sum(axis=1, level=\"Year\"))",
      "execution_count": null,
      "outputs": []
    },
    {
      "metadata": {
        "_uuid": "88aa0d1c986164c8886b1da22f72f42b6c4c6a4c"
      },
      "cell_type": "markdown",
      "source": "press 'Output' to show\n\nRemoving years up to 1993 as well as 2017-18 due to low data availability, then we choose features based on their supposed relation to the TL and availability, as well as general indicators such as population, GDP, land area, to calculate relative values. Leaving 1 extra year (1994) to calculate inflation based on CPI, it will be removed afterwards."
    },
    {
      "metadata": {
        "trusted": true,
        "_uuid": "f02f9cf36734ab91311d0fc3ab56caebca0e67de",
        "scrolled": true
      },
      "cell_type": "code",
      "source": "ldrop = [str(i) for i in range(1960,1994)]\nldrop.append(\"2017\")\nldrop.append(\"2018\")\ndf=df.drop(columns=ldrop, level=\"Year\")\nids = ['Adjusted savings: education expenditure (% of GNI)', 'Adolescent fertility rate (births per 1,000 women ages 15-19)',\n      'Age dependency ratio (% of working-age population)', 'Agricultural land (% of land area)', 'Agriculture, forestry, and fishing, value added (% of GDP)',\n       'Birth rate, crude (per 1,000 people)', 'Cereal production (metric tons)', 'Consumer price index (2010 = 100)', 'Death rate, crude (per 1,000 people)',\n      'Fertility rate, total (births per woman)', 'GDP (constant 2010 US$)', 'Immunization, measles (% of children ages 12-23 months)', 'Land area (sq. km)', 'Land under cereal production (hectares)',\n      'Life expectancy at birth, total (years)', 'Lower secondary school starting age (years)', 'Military expenditure (% of GDP)', 'Manufacturing, value added (% of GDP)', \n      'Mobile cellular subscriptions (per 100 people)', 'Population, total', 'Preprimary education, duration (years)', 'Primary education, duration (years)', \n      'Rural population (% of total population)', 'School enrollment, primary (% gross)', 'Services, value added (% of GDP)']\nprint(len(ids))\nprint(len(ids)-len(set(ids)))\ndf=df[df.index.isin(ids)]\ndf.shape",
      "execution_count": null,
      "outputs": []
    },
    {
      "metadata": {
        "trusted": true,
        "scrolled": true,
        "_uuid": "7cd7ee7caf6aab8d429abed50e26d3e277ef7035",
        "_kg_hide-output": false
      },
      "cell_type": "code",
      "source": "df_t=(df.isna().sum(axis=1, level=\"Country Name\")/(df.isna().sum(axis=1, level=\"Country Name\")+df.notna().sum(axis=1, level=\"Country Name\"))).T",
      "execution_count": null,
      "outputs": []
    },
    {
      "metadata": {
        "_kg_hide-output": true,
        "trusted": true,
        "scrolled": true,
        "_uuid": "fc4495fdba1ecd15e6dc167418f83ded08c494d5"
      },
      "cell_type": "code",
      "source": "df_t",
      "execution_count": null,
      "outputs": []
    },
    {
      "metadata": {
        "_uuid": "b7cc855902c67b46205fa1cfe7b0d03398e6945a"
      },
      "cell_type": "markdown",
      "source": "press 'Output' to show\n\nAs we can see, countries that have a non-zero share of missing TL values generally have low number of observations on other indicators, so we are safe to drop any country which misses at least some TL observations.\n\nRemoving countries with high share of other missing indicators as well"
    },
    {
      "metadata": {
        "trusted": true,
        "_uuid": "c1f6e31a2a85d58702f9170359c2c7661f515f3c",
        "scrolled": false
      },
      "cell_type": "code",
      "source": "ldrop=df_t.loc[df_t['Life expectancy at birth, total (years)']!=0].index.tolist()\nldrop+=df_t.loc[df_t['Immunization, measles (% of children ages 12-23 months)']!=0].index.tolist()\nldrop+=df_t.loc[df_t['GDP (constant 2010 US$)']>0.3].index.tolist()\nldrop+=df_t.loc[df_t['Consumer price index (2010 = 100)']>0.3].index.tolist()\nldrop+=df_t.loc[df_t['Agriculture, forestry, and fishing, value added (% of GDP)']>0.15].index.tolist()\ndel df_t\ngc.collect()\nprint(set(ldrop))\ndf=df.drop(columns=ldrop, level=\"Country Name\")\ndf.shape",
      "execution_count": null,
      "outputs": []
    },
    {
      "metadata": {
        "_uuid": "ffb50cc88d81ed97f1f83c88a7b152bf12dd7d71"
      },
      "cell_type": "markdown",
      "source": "III: Hypotheses:\n- Check the distribution of features. Normal distribution is expected, otherwise the data will need to be transformed if we want to use maximum likelyhood estimation or anything else that requires ~N dist of variables.\n- Test the set of features for autocorrelation. Expected to have one, especially in GDP - related series.\n- Test the data for heteroskedasticity. Same, expected to be present in series with a growth trend.\n- Test the other variables for cross-correlation.\n- TL by definition is based on mortality rate, so high correlation between the two is expected. Otherwise may suggest inconsistency in data/methodology or other errors.\n- Other selected features except for auxiliary ones such as GDP, land area, cereal production are expected to have correlation with TL."
    },
    {
      "metadata": {
        "_uuid": "bf2cab6f1d24a737cf9add090dde2eb277790eec"
      },
      "cell_type": "markdown",
      "source": "TL density function:"
    },
    {
      "metadata": {
        "trusted": true,
        "_uuid": "cb884fc071a08ad1b3eb4d28e98837c6f509fa61"
      },
      "cell_type": "code",
      "source": "df=df.T",
      "execution_count": null,
      "outputs": []
    },
    {
      "metadata": {
        "trusted": true,
        "_uuid": "cb570d1ff1ea722f99fb6c084d438b718690b1a5",
        "scrolled": true
      },
      "cell_type": "code",
      "source": "sns.distplot(df['Life expectancy at birth, total (years)']);",
      "execution_count": null,
      "outputs": []
    },
    {
      "metadata": {
        "_uuid": "15940877f325762207d73999b8eda8bdaf619778"
      },
      "cell_type": "markdown",
      "source": "Correlation matrix:\n\nPress 'Output' to show"
    },
    {
      "metadata": {
        "trusted": true,
        "scrolled": true,
        "_uuid": "da8ca2ea7b66dfb4b2cade823ef769905ce48191",
        "_kg_hide-output": true
      },
      "cell_type": "code",
      "source": "f,ax = plt.pyplot.subplots(figsize=(18, 18))\nsns.heatmap(df.corr(method='pearson'), annot=True, linewidths=.5, fmt= '.2f',ax=ax, center = 0)\nplt.pyplot.show()",
      "execution_count": null,
      "outputs": []
    },
    {
      "metadata": {
        "_uuid": "9b1c60556f82f33ecda742471b3853ada80b0924"
      },
      "cell_type": "markdown",
      "source": "Seems that the general idea is right - the TL has high correlation with the indicators we usually consider to be markers of high development of a country: low rural population and share of agri industry, high share of services in GDP, low fertility, high share of mobile phone users, and immunization. Also, the indicators that should not explain life expectancy, such as total GDP, land area and total population have near-zero correlation. \n\n- Death rate seems to correlate with life expectancy as it should by definition. Since we have checked this hypothesis, we can remove the indicator.\n\n- Removing % of agri land, since it doesnt show significant correlation with TL.\n\n- Removing birth rate and fertility rate - leaving adolescent fertility rate. The latter has close correlation to both, also high value of this metric is a sing of poor quality of life in a given country.\n\n- Removing military expenditures (%GDP) and share of manufacturing in GDP, since they show low correlation, and have low availability.\n\n- Removing % services value added - availability and its high negative correlation with agricultural value added, which is also correlated with TL and can be used as a substitute.\n\n- Removing school enrollment - low correlation, low availability."
    },
    {
      "metadata": {
        "trusted": true,
        "scrolled": true,
        "_uuid": "c737e0c874bf2ba83a08ca5f2ae151d6d304744a"
      },
      "cell_type": "code",
      "source": "df=df.T\nids = ['Agricultural land (% of land area)', 'Birth rate, crude (per 1,000 people)', 'Death rate, crude (per 1,000 people)',\n       'Fertility rate, total (births per woman)', 'Military expenditure (% of GDP)', 'Manufacturing, value added (% of GDP)',\n       'School enrollment, primary (% gross)', 'Services, value added (% of GDP)']\ndf=df[~df.index.isin(ids)]\ndf=df.T\ndf.shape",
      "execution_count": null,
      "outputs": []
    },
    {
      "metadata": {
        "_uuid": "da8fdd68f8e71463e5ae3e3a3e6b46b390db855e"
      },
      "cell_type": "markdown",
      "source": "Next we modify some indicators to have more meaning:\n\nLN [GDP / population] (level of income)\n\nLN GPD (linearized GDP)\n\nCereal prod / cereal land (agricultural productivity)\n\nCereal prod / population (food supply)\n\nPrimary + preprimary education duration (length of education)\n\nChain CPI difference (Inflation)"
    },
    {
      "metadata": {
        "trusted": true,
        "_uuid": "e55a281adc062e70fd758b91f7c8a750be94e015"
      },
      "cell_type": "code",
      "source": "df[\"Agricultural productivity (tons/hectares) ln\"]=(df[\"Cereal production (metric tons)\"]/df[\"Land under cereal production (hectares)\"]).apply(math.log)\ndf['GDP US$ per capita ln']=(df['GDP (constant 2010 US$)']/df[\"Population, total\"]).apply(math.log)\ndf['GDP US$ ln']=df['GDP (constant 2010 US$)'].apply(math.log)\ndf[\"Basic education\"]=df[\"Primary education, duration (years)\"]+df[\"Preprimary education, duration (years)\"]\ndf[\"Inflation\"]=df[\"Consumer price index (2010 = 100)\"]/df[\"Consumer price index (2010 = 100)\"].shift(1)\ndf=df.T\ndf=df.drop(columns=\"1994\", level=\"Year\")\ndf=df.T\ndf.shape",
      "execution_count": null,
      "outputs": []
    },
    {
      "metadata": {
        "_uuid": "ccba6ee788caf9fa4dcdf6f78fd87e77278f2572"
      },
      "cell_type": "markdown",
      "source": "Normality tests 1: distribution\n\nPress 'Output' to show"
    },
    {
      "metadata": {
        "trusted": true,
        "scrolled": true,
        "_uuid": "0cf32c1793155b3566019e291281d16073edd074",
        "_kg_hide-output": true
      },
      "cell_type": "code",
      "source": "f,ax = plt.pyplot.subplots(figsize=(18, 18))\ndf[list(df.columns.values)].hist(figsize=(25, 20), ax=ax)\nplt.pyplot.show()",
      "execution_count": null,
      "outputs": []
    },
    {
      "metadata": {
        "_uuid": "0e6bed3fd84bbde060ffe782c03f8f8b46be63a0"
      },
      "cell_type": "markdown",
      "source": "Normality tests 2: Agostino, Pearson test"
    },
    {
      "metadata": {
        "trusted": true,
        "_uuid": "4f7bcd49eae3fd1bd144c110ce45baad2840f818",
        "scrolled": true
      },
      "cell_type": "code",
      "source": "for x in list(df.columns.values):\n    st,p = scipy.stats.normaltest(df[x],nan_policy='omit')\n    print(x + \" p-value = \" + str('%.3f' % p))",
      "execution_count": null,
      "outputs": []
    },
    {
      "metadata": {
        "_uuid": "663ed897dfd729e37dc1633a292be8b33ab13d64"
      },
      "cell_type": "markdown",
      "source": "Normality tests 3: quantile-quantile\n\nPress 'Output' to show"
    },
    {
      "metadata": {
        "trusted": true,
        "scrolled": true,
        "_uuid": "7865fc38dc17bc52e98712175312268b710ebd58",
        "_kg_hide-output": true
      },
      "cell_type": "code",
      "source": "for x in list(df.columns.values):\n    fig = plt.pyplot.figure(figsize=[5, 5])\n    ax = fig.add_subplot(111)\n    scipy.stats.probplot(df[x], dist=\"norm\", plot=ax)\n    ax.set_title(x)\n    plt.pyplot.show()",
      "execution_count": null,
      "outputs": []
    },
    {
      "metadata": {
        "_uuid": "ef81c84037153474d62eb4fb3adaec732f23d6ed"
      },
      "cell_type": "markdown",
      "source": "We can see that indicators dont follow ~N distribution, although LN features got pretty close. GDP/population, and both agricultural derivative features were tested w/o logarithm and the results were farther from the normal dist.\nFor maximum likelihood estimation the data will need to be transformed to ~N dist.\n\nThrowing away another bunch of indicators: education duration and their derivative, due to low correlation and ladder-like distribution; all basic indicators which were used to build derivative ones."
    },
    {
      "metadata": {
        "trusted": true,
        "_uuid": "87d69b30aee1ee9c45727140e6760c8a41e5ce24"
      },
      "cell_type": "code",
      "source": "df=df.T\nids = ['Basic education', 'Birth rate, crude (per 1,000 people)', 'Cereal production (metric tons)', 'Consumer price index (2010 = 100)',\n       'GDP (constant 2010 US$)', 'Land area (sq. km)', 'Land under cereal production (hectares)', 'Lower secondary school starting age (years)',\n      'Population, total', 'Preprimary education, duration (years)', 'Primary education, duration (years)']\ndf=df[~df.index.isin(ids)]\ndf.shape",
      "execution_count": null,
      "outputs": []
    },
    {
      "metadata": {
        "trusted": true,
        "_uuid": "26d93bb2b053066d537fb5847884fdfd60d43d76"
      },
      "cell_type": "code",
      "source": "df_t=(df.isna().sum(axis=1, level=\"Country Name\")/(df.isna().sum(axis=1, level=\"Country Name\")+df.notna().sum(axis=1, level=\"Country Name\")))\nldrop=[]\nfor i in df_t.columns.values:\n    ldrop+=df_t.loc[df_t[i]>0.1].index.tolist()\ndel df_t\ngc.collect()\nprint(set(ldrop))\ndf=df.drop(columns=ldrop, level=\"Country Name\")",
      "execution_count": null,
      "outputs": []
    },
    {
      "metadata": {
        "_uuid": "44bc6216e0c2a3581f433f867487b9996cd84e46"
      },
      "cell_type": "markdown",
      "source": "Now that we've finished clearing data and the dataframe is way less heavy, it's easier to just switch to regular dataframe style."
    },
    {
      "metadata": {
        "trusted": true,
        "_uuid": "2d7116366a51a6916cc92b85448a1cd5e8e7e30c"
      },
      "cell_type": "code",
      "source": "df2=df.T.reset_index()\ndf2=df2.drop(columns=\"level_0\")\ndf2=df2.dropna()\ndf2[\"Year\"] = df2[\"Year\"].astype(float)\n#df3 = df2.pivot_table(index='Year', columns=['Country Name'], dropna = False)\ndf2.rename(columns={'Adjusted savings: education expenditure (% of GNI)': 'Education exp. %GNI',\n                   'Adolescent fertility rate (births per 1,000 women ages 15-19)' : 'Adolescent fertility rate',\n                   'Age dependency ratio (% of working-age population)' : 'Age dependency ratio',\n                   'Agriculture, forestry, and fishing, value added (% of GDP)' : 'Agriculture v.add. %GDP',\n                   'Immunization, measles (% of children ages 12-23 months)' : 'Immunization, measles',\n                   'Life expectancy at birth, total (years)' : 'Life expectancy',\n                   'Mobile cellular subscriptions (per 100 people)' : 'Mobile sub./population',\n                   'Rural population (% of total population)' : 'Rural population %',\n                   'Agricultural productivity (tons/hectares) ln': 'Cereal tn/ha ln',}, inplace=True)\ndf2.shape",
      "execution_count": null,
      "outputs": []
    },
    {
      "metadata": {
        "trusted": true,
        "_uuid": "cbf0a406dd66d77902faaeaf57112cf950693944"
      },
      "cell_type": "code",
      "source": "\n\n\n\n\n\n\n\n\n\n\n\n#df2=pd.read_excel(\"../input/data2.xlsx\")\n\n\n\n\n\n\n\n\n\n\n\n\n\n\n",
      "execution_count": 197,
      "outputs": []
    },
    {
      "metadata": {
        "_uuid": "24c968f37907297b05ffaff7ad55f8beb75e026d"
      },
      "cell_type": "markdown",
      "source": "Press 'Output' to show\n\nAgriculture, immunization, life exp., and mobile subs show some time trend, but variance at each time period is far larger than the time explained, mobile subs also shows signs of heteroskedasticity based of year. \n\nWe can also visually identify presense of heteroskedasticity as a function of TL in birth rate, agriculture share of value added, immunization, mobile subs, and GDP per capita."
    },
    {
      "metadata": {
        "trusted": true,
        "_uuid": "a1693be886cceab2c2aea772c2551bc92c375823",
        "scrolled": true,
        "_kg_hide-output": true
      },
      "cell_type": "code",
      "source": "f,ax = plt.pyplot.subplots(figsize=(25, 25))\npd.plotting.scatter_matrix(df2, ax=ax, alpha=1, diagonal=\"kde\")\nplt.pyplot.show()",
      "execution_count": null,
      "outputs": []
    },
    {
      "metadata": {
        "_uuid": "41541e4763f0219302a93ea0dfc7a739deed7c25"
      },
      "cell_type": "markdown",
      "source": "Average values across countries:\n\nWhen values are averaged we can clearly see time dependancy across most features. Consequently, data becomes inter-correlated and develops autocorrelation (significant at up to 3-4 periods lag).\n\nWe wont be using averaged data for building models, since we might as well say that average life expectancy just depends on year.\n\nPress 'Output' to show"
    },
    {
      "metadata": {
        "trusted": true,
        "scrolled": true,
        "_uuid": "ff62d3aad6f079198be234dc584ac15312adc49f",
        "_kg_hide-output": true
      },
      "cell_type": "code",
      "source": "f,ax = plt.pyplot.subplots(figsize=(10, 30))\ndf2.groupby('Year').mean().plot(ax=ax, subplots=True)\nplt.pyplot.show()",
      "execution_count": null,
      "outputs": []
    },
    {
      "metadata": {
        "trusted": true,
        "scrolled": true,
        "_uuid": "d1439dc74bf9e0372bd87c606357e89dddfbf9e1",
        "_kg_hide-output": true
      },
      "cell_type": "code",
      "source": "f,ax = plt.pyplot.subplots(figsize=(18, 18))\nsns.heatmap(df2.groupby('Year').mean().corr(method='pearson'), annot=True, linewidths=.5, fmt= '.2f',ax=ax, center = 0)\nplt.pyplot.show()",
      "execution_count": null,
      "outputs": []
    },
    {
      "metadata": {
        "trusted": true,
        "_uuid": "f266d8e594736a2d80d9d8ed1a8cb63097da9fe8",
        "scrolled": true,
        "_kg_hide-output": true
      },
      "cell_type": "code",
      "source": "ldrop=list(df2.columns.values)\nldrop.remove('Country Name')\nldrop.remove('Year')\nfig, ax = plt.pyplot.subplots(figsize=[10,7])\nfor x in ldrop:\n    pd.plotting.autocorrelation_plot(df2.groupby('Year').mean()[x], ax=ax)",
      "execution_count": null,
      "outputs": []
    },
    {
      "metadata": {
        "_uuid": "f1d6a2e200aa7f14bc3bb064de812fa20e7f41fc"
      },
      "cell_type": "markdown",
      "source": "Distribution of TL across the countries. We can see that patterns vary, and countries with generally lower life expectancy have higher variance across years."
    },
    {
      "metadata": {
        "trusted": true,
        "scrolled": true,
        "_uuid": "8f0ec12f8a884e31e90001cb3f3b34e3b5606f5a",
        "_kg_hide-output": true
      },
      "cell_type": "code",
      "source": "ldrop=list(df2.columns.values)\nldrop.remove('Country Name')\nldrop.remove('Life expectancy')\nfig, ax = plt.pyplot.subplots(figsize=[15,35])\nsns.boxplot(ax=ax, x='Life expectancy', y=\"Country Name\", data=df2.drop(columns=ldrop), orient=\"h\");",
      "execution_count": null,
      "outputs": []
    },
    {
      "metadata": {
        "_uuid": "a60a71d0e0ea8ded708a76a954111ddcaa916537"
      },
      "cell_type": "markdown",
      "source": "Let's look what we would get if we were to build a simple OLS of TL on GDP per capita:\n\nThere is definitely a pattern, but probably a non-linear one, even though GDP has already been subjected to log transformation. Residuals are not evenly distributed and show a pattern."
    },
    {
      "metadata": {
        "trusted": true,
        "scrolled": true,
        "_uuid": "97a3f91eea9e92fd67475a53121d3ee44473fa06"
      },
      "cell_type": "code",
      "source": "sns.jointplot(x='Life expectancy', y='GDP US$ per capita ln', data=df2, kind='reg');\nsns.jointplot(x='Life expectancy', y='GDP US$ per capita ln', data=df2, kind='resid');",
      "execution_count": null,
      "outputs": []
    },
    {
      "metadata": {
        "_uuid": "f0dc7a3d158bc9e4b730474499ce910347f96f6c"
      },
      "cell_type": "markdown",
      "source": "Following is the series of graphs showing distribution of TL in relation to immunization %.\n\nThe relation is not linear, and it looks like immunization has a positive effect on TL at lower levels of both life expectancy and immunization. Countries that have higher level of either feature (~70% immunization or ~65 years LE) display seemingly lower correlation, with few exceptions.\n\nPress 'Output' to show"
    },
    {
      "metadata": {
        "trusted": true,
        "scrolled": true,
        "_uuid": "b31aef28a490ebf98cff223ffd0166566e8c454e",
        "_kg_hide-output": true
      },
      "cell_type": "code",
      "source": "for x in range(1,25):\n    sns.lmplot('Life expectancy', 'Immunization, measles', data=df2.loc[((x-1)*132):(x*132)], hue='Country Name', fit_reg=False, size=5, aspect=1.5);",
      "execution_count": null,
      "outputs": []
    },
    {
      "metadata": {
        "_uuid": "68945762a91c324587a7c4a8213e5cfa658f7f5c"
      },
      "cell_type": "markdown",
      "source": "But this theory is not confirmed to the data. The restricted model doesnt seem a lot better than full one."
    },
    {
      "metadata": {
        "trusted": true,
        "_uuid": "fc17cd22898432a445a21f76c329a1d444807838",
        "scrolled": true,
        "_kg_hide-output": true
      },
      "cell_type": "code",
      "source": "sns.jointplot(x='Life expectancy', y='Immunization, measles', data=df2[(df2['Immunization, measles'] < 70) & (df2['Life expectancy'] < 65)], kind='reg');\nsns.jointplot(x='Life expectancy', y='Immunization, measles', data=df2, kind='reg');",
      "execution_count": null,
      "outputs": []
    },
    {
      "metadata": {
        "_uuid": "908ddc7ca06956aef9f21fcf7f4f18bc14808168"
      },
      "cell_type": "markdown",
      "source": "Now back to the boring stuff. We need to do actual testing of multicollinearity, heteroskedasticity and autocorrelation.\n\nMC: Variance inflation factor is caluclated for all explaining variables (TL removed, year also removed as it's an index that is just here in case we will need it, constant added, because otherwise it gives wrong result):\n\nTwo features have high VIF: Age dependency ratio and GDP US$ per capita ln. The first one can be dropped, since it doesnt have a strong theoretical reason to have high explanatory power. The second one should be left, unless it really causes trouble for the model. Removing GDP not per capita doesnt reduce VIF a lot."
    },
    {
      "metadata": {
        "trusted": true,
        "_uuid": "c532910d69abf62afdf1f1c0a799b77f1aa8f5f5"
      },
      "cell_type": "code",
      "source": "df2 = add_constant(df2)\ndf_vif = df2\ndf_vif=df_vif.drop(columns='Country Name')\ndf_vif=df_vif.drop(columns='Year')\ndf_vif=df_vif.drop(columns='Life expectancy')",
      "execution_count": 198,
      "outputs": []
    },
    {
      "metadata": {
        "trusted": true,
        "_uuid": "3509ae0c2703cfaf93c06acfdfaeacbedcbf25de",
        "scrolled": true
      },
      "cell_type": "code",
      "source": "pd.Series([sm_ol.variance_inflation_factor(df_vif.values, i) for i in range(df_vif.shape[1])], index=df_vif.columns)",
      "execution_count": 207,
      "outputs": [
        {
          "output_type": "execute_result",
          "execution_count": 207,
          "data": {
            "text/plain": "const                       667.471\nEducation exp. %GNI           1.346\nAdolescent fertility rate     3.952\nAge dependency ratio          5.002\nAgriculture v.add. %GDP       4.414\nImmunization, measles         1.983\nMobile sub./population        1.488\nRural population %            3.173\nCereal tn/ha ln               1.955\nGDP US$ per capita ln         6.431\nGDP US$ ln                    1.851\nInflation                     1.023\ndtype: float64"
          },
          "metadata": {}
        }
      ]
    },
    {
      "metadata": {
        "_uuid": "ce2df1f8ab8c46a90beaf20a5862386beadd619c"
      },
      "cell_type": "markdown",
      "source": "AC: Now we test a 2-factor regression for autocorrelation. Since all variables on average have it, we expect to confirm its presence on any variables."
    },
    {
      "metadata": {
        "trusted": true,
        "scrolled": true,
        "_uuid": "b71fb97984e10536ec87e7b2ea7e6a4c59d99b76"
      },
      "cell_type": "code",
      "source": "sm_lm.OLS(df2['Life expectancy'], df2[['const','Immunization, measles', 'GDP US$ per capita ln']]).fit().summary()",
      "execution_count": 201,
      "outputs": [
        {
          "output_type": "execute_result",
          "execution_count": 201,
          "data": {
            "text/plain": "<class 'statsmodels.iolib.summary.Summary'>\n\"\"\"\n                            OLS Regression Results                            \n==============================================================================\nDep. Variable:        Life expectancy   R-squared:                       0.733\nModel:                            OLS   Adj. R-squared:                  0.733\nMethod:                 Least Squares   F-statistic:                     3869.\nDate:                Tue, 26 Feb 2019   Prob (F-statistic):               0.00\nTime:                        14:50:49   Log-Likelihood:                -8487.1\nNo. Observations:                2822   AIC:                         1.698e+04\nDf Residuals:                    2819   BIC:                         1.700e+04\nDf Model:                           2                                         \nCovariance Type:            nonrobust                                         \n=========================================================================================\n                            coef    std err          t      P>|t|      [0.025      0.975]\n-----------------------------------------------------------------------------------------\nconst                    18.1527      0.585     31.006      0.000      17.005      19.301\nImmunization, measles     0.1982      0.007     29.564      0.000       0.185       0.211\nGDP US$ per capita ln     4.0182      0.071     56.307      0.000       3.878       4.158\n==============================================================================\nOmnibus:                      603.044   Durbin-Watson:                   0.139\nProb(Omnibus):                  0.000   Jarque-Bera (JB):             1575.762\nSkew:                          -1.141   Prob(JB):                         0.00\nKurtosis:                       5.862   Cond. No.                         550.\n==============================================================================\n\nWarnings:\n[1] Standard Errors assume that the covariance matrix of the errors is correctly specified.\n\"\"\"",
            "text/html": "<table class=\"simpletable\">\n<caption>OLS Regression Results</caption>\n<tr>\n  <th>Dep. Variable:</th>     <td>Life expectancy</td> <th>  R-squared:         </th> <td>   0.733</td> \n</tr>\n<tr>\n  <th>Model:</th>                   <td>OLS</td>       <th>  Adj. R-squared:    </th> <td>   0.733</td> \n</tr>\n<tr>\n  <th>Method:</th>             <td>Least Squares</td>  <th>  F-statistic:       </th> <td>   3869.</td> \n</tr>\n<tr>\n  <th>Date:</th>             <td>Tue, 26 Feb 2019</td> <th>  Prob (F-statistic):</th>  <td>  0.00</td>  \n</tr>\n<tr>\n  <th>Time:</th>                 <td>14:50:49</td>     <th>  Log-Likelihood:    </th> <td> -8487.1</td> \n</tr>\n<tr>\n  <th>No. Observations:</th>      <td>  2822</td>      <th>  AIC:               </th> <td>1.698e+04</td>\n</tr>\n<tr>\n  <th>Df Residuals:</th>          <td>  2819</td>      <th>  BIC:               </th> <td>1.700e+04</td>\n</tr>\n<tr>\n  <th>Df Model:</th>              <td>     2</td>      <th>                     </th>     <td> </td>    \n</tr>\n<tr>\n  <th>Covariance Type:</th>      <td>nonrobust</td>    <th>                     </th>     <td> </td>    \n</tr>\n</table>\n<table class=\"simpletable\">\n<tr>\n            <td></td>               <th>coef</th>     <th>std err</th>      <th>t</th>      <th>P>|t|</th>  <th>[0.025</th>    <th>0.975]</th>  \n</tr>\n<tr>\n  <th>const</th>                 <td>   18.1527</td> <td>    0.585</td> <td>   31.006</td> <td> 0.000</td> <td>   17.005</td> <td>   19.301</td>\n</tr>\n<tr>\n  <th>Immunization, measles</th> <td>    0.1982</td> <td>    0.007</td> <td>   29.564</td> <td> 0.000</td> <td>    0.185</td> <td>    0.211</td>\n</tr>\n<tr>\n  <th>GDP US$ per capita ln</th> <td>    4.0182</td> <td>    0.071</td> <td>   56.307</td> <td> 0.000</td> <td>    3.878</td> <td>    4.158</td>\n</tr>\n</table>\n<table class=\"simpletable\">\n<tr>\n  <th>Omnibus:</th>       <td>603.044</td> <th>  Durbin-Watson:     </th> <td>   0.139</td>\n</tr>\n<tr>\n  <th>Prob(Omnibus):</th> <td> 0.000</td>  <th>  Jarque-Bera (JB):  </th> <td>1575.762</td>\n</tr>\n<tr>\n  <th>Skew:</th>          <td>-1.141</td>  <th>  Prob(JB):          </th> <td>    0.00</td>\n</tr>\n<tr>\n  <th>Kurtosis:</th>      <td> 5.862</td>  <th>  Cond. No.          </th> <td>    550.</td>\n</tr>\n</table><br/><br/>Warnings:<br/>[1] Standard Errors assume that the covariance matrix of the errors is correctly specified."
          },
          "metadata": {}
        }
      ]
    },
    {
      "metadata": {
        "trusted": true,
        "_uuid": "1e2666174091056d0af00798cd5c686dd40fc035"
      },
      "cell_type": "code",
      "source": "df2['errors']=18.1527+(df2['Immunization, measles']*0.1982)+(df2['GDP US$ per capita ln']*4.0182)-df2['Life expectancy']",
      "execution_count": 202,
      "outputs": []
    },
    {
      "metadata": {
        "trusted": true,
        "scrolled": true,
        "_uuid": "293b5745575f0e970a44efc678d74fd44ca438ba"
      },
      "cell_type": "code",
      "source": "fig, ax = plt.pyplot.subplots(figsize=[15,10])\npd.plotting.autocorrelation_plot(df2['errors'], ax=ax)",
      "execution_count": 203,
      "outputs": [
        {
          "output_type": "execute_result",
          "execution_count": 203,
          "data": {
            "text/plain": "<matplotlib.axes._subplots.AxesSubplot at 0x7f464e4049b0>"
          },
          "metadata": {}
        },
        {
          "output_type": "display_data",
          "data": {
            "text/plain": "<Figure size 1080x720 with 1 Axes>",
            "image/png": "[encoded data removed]"
          },
          "metadata": {}
        }
      ]
    },
    {
      "metadata": {
        "_uuid": "b9c93a8d6c0b4df0e6f58f79f49112d160cc08ff"
      },
      "cell_type": "markdown",
      "source": "Regression w/o intercept shows better R2, but autocorrelation has pretty much the same function.\n\nAs a result we can confirm that data is autocorrelated, so OLS estimations will have their significance inflated."
    },
    {
      "metadata": {
        "_uuid": "412fda63d59f56ea2ae1fe3ddb07d9710df6a734"
      },
      "cell_type": "markdown",
      "source": "HS: we will use B-P test for heteroskedasticity for each variable based on OLS (TL, variable)"
    },
    {
      "metadata": {
        "trusted": true,
        "scrolled": false,
        "_uuid": "6bbdefc708dac17ddeeb2a412b892b8939f269a5"
      },
      "cell_type": "code",
      "source": "ldrop=list(df2.columns.values)\nldrop.remove('Country Name')\nldrop.remove('Life expectancy')\nldrop.remove('errors')\nldrop.remove('const')\nfor variable in ldrop:\n    reg=sm_lm.OLS(df2['Life expectancy'], df2[['const', variable]]).fit()\n    bp=sm_diag.het_breuschpagan(reg.resid, reg.model.exog)\n    print(variable)\n    print(\"LM_stat= \" + str(bp[0]) + \" lm_pvalue= \" + str(bp[1]) + \" fvalue= \" + str(bp[2]) + \" f_pvalue= \" + str(bp[3]))\n    print(\" \")",
      "execution_count": 206,
      "outputs": [
        {
          "output_type": "stream",
          "text": "Year\nLM_stat= 56.895655821648425 lm_pvalue= 4.595599020060308e-14 fvalue= 58.02520608484492 f_pvalue= 3.509137001576032e-14\n \nEducation exp. %GNI\nLM_stat= 6.157876799025519 lm_pvalue= 0.013082815488723467 fvalue= 6.166969529353968 f_pvalue= 0.01307344438587089\n \nAdolescent fertility rate\nLM_stat= 68.16774988418827 lm_pvalue= 1.5016167858761535e-16 fvalue= 69.80565162069203 f_pvalue= 1.0132645701621013e-16\n \nAge dependency ratio\nLM_stat= 35.9692917470824 lm_pvalue= 2.004518574452976e-09 fvalue= 36.407855242334904 f_pvalue= 1.8097889064482659e-09\n \nAgriculture v.add. %GDP\nLM_stat= 2.608033496123749 lm_pvalue= 0.10632353516710127 fvalue= 2.608595947795333 f_pvalue= 0.10639769542336086\n \nImmunization, measles\nLM_stat= 10.016430631671138 lm_pvalue= 0.0015514985331386965 fvalue= 10.044985571397875 f_pvalue= 0.0015439946338529982\n \nMobile sub./population\nLM_stat= 207.95300127271238 lm_pvalue= 3.8412546234205567e-47 fvalue= 224.3370007787026 f_pvalue= 7.37323984585473e-49\n \nRural population %\nLM_stat= 179.11450603050264 lm_pvalue= 7.564185199343222e-41 fvalue= 191.11796865908687 f_pvalue= 4.152738599225856e-42\n \nCereal tn/ha ln\nLM_stat= 445.8607146964532 lm_pvalue= 5.740474023795386e-99 fvalue= 529.1471014433303 f_pvalue= 1.8647807727844687e-107\n \nGDP US$ per capita ln\nLM_stat= 148.8556713230412 lm_pvalue= 3.083819398593137e-34 fvalue= 157.03341889464596 f_pvalue= 4.25758743239098e-35\n \nGDP US$ ln\nLM_stat= 134.14669384003946 lm_pvalue= 5.074419781486803e-31 fvalue= 140.7419354925162 f_pvalue= 1.0272945497848345e-31\n \nInflation\nLM_stat= 7.804514114317008 lm_pvalue= 0.005211587750218605 fvalue= 7.820611578959672 f_pvalue= 0.00520038417054439\n \n",
          "name": "stdout"
        }
      ]
    },
    {
      "metadata": {
        "_uuid": "b6f754d456fcbbeffa4631f534713f4192821372"
      },
      "cell_type": "markdown",
      "source": "No surprise, HS was confirmed for agriculture share of value added, but the other indicators for some reason yielded negative result (fertility rate, immunization, mobile subs, and GDP per capita)."
    }
  ],
  "metadata": {
    "kernelspec": {
      "display_name": "Python 3",
      "language": "python",
      "name": "python3"
    },
    "language_info": {
      "name": "python",
      "version": "3.6.6",
      "mimetype": "text/x-python",
      "codemirror_mode": {
        "name": "ipython",
        "version": 3
      },
      "pygments_lexer": "ipython3",
      "nbconvert_exporter": "python",
      "file_extension": ".py"
    }
  },
  "nbformat": 4,
  "nbformat_minor": 1
}